{
 "cells": [
  {
   "cell_type": "code",
   "execution_count": 1,
   "id": "97c5ce2b",
   "metadata": {},
   "outputs": [],
   "source": [
    "import numpy as np\n",
    "import pandas as pd\n",
    "import tensorflow as tf"
   ]
  },
  {
   "cell_type": "code",
   "execution_count": 2,
   "id": "b69b8b37",
   "metadata": {},
   "outputs": [],
   "source": [
    "t0 = tf.constant(3)"
   ]
  },
  {
   "cell_type": "code",
   "execution_count": 3,
   "id": "a41b6c37",
   "metadata": {},
   "outputs": [
    {
     "name": "stdout",
     "output_type": "stream",
     "text": [
      "Created a constant type tensor\n",
      "The tensor\n",
      " tf.Tensor(3, shape=(), dtype=int32)\n",
      "To numpy\n",
      " 3\n",
      "Rank of tensor tf.Tensor(0, shape=(), dtype=int32)\n"
     ]
    }
   ],
   "source": [
    "print('Created a constant type tensor')\n",
    "\n",
    "print(\"The tensor\\n\", t0)\n",
    "print(\"To numpy\\n\", t0.numpy())\n",
    "print(\"Rank of tensor\", tf.rank(t0))"
   ]
  },
  {
   "cell_type": "code",
   "execution_count": 4,
   "id": "e95c161f",
   "metadata": {},
   "outputs": [
    {
     "name": "stdout",
     "output_type": "stream",
     "text": [
      "Creating a 1D Tensor.\n",
      "The tensor\n",
      " tf.Tensor([3 2 5 8], shape=(4,), dtype=int32)\n",
      "To numpy\n",
      " [3 2 5 8]\n",
      "Rank of tensor tf.Tensor(1, shape=(), dtype=int32)\n"
     ]
    }
   ],
   "source": [
    "print(\"Creating a 1D Tensor.\")\n",
    "t1 = tf.constant([3,2,5,8])\n",
    "\n",
    "print(\"The tensor\\n\", t1)\n",
    "print(\"To numpy\\n\", t1.numpy())\n",
    "print(\"Rank of tensor\", tf.rank(t1))"
   ]
  },
  {
   "cell_type": "code",
   "execution_count": 5,
   "id": "f1eb87cc",
   "metadata": {},
   "outputs": [
    {
     "name": "stdout",
     "output_type": "stream",
     "text": [
      "Creating a 2D Tensor.\n",
      "The tensor\n",
      " tf.Tensor(\n",
      "[[1 3 4]\n",
      " [3 2 5]\n",
      " [3 5 7]], shape=(3, 3), dtype=int32)\n",
      "To numpy\n",
      " [[1 3 4]\n",
      " [3 2 5]\n",
      " [3 5 7]]\n",
      "Rank of tensor tf.Tensor(2, shape=(), dtype=int32)\n"
     ]
    }
   ],
   "source": [
    "print(\"Creating a 2D Tensor.\")\n",
    "t2 = tf.constant([\n",
    "    [1,3,4],\n",
    "    [3,2,5],\n",
    "    [3,5,7]\n",
    "])\n",
    "\n",
    "print(\"The tensor\\n\", t2)\n",
    "print(\"To numpy\\n\", t2.numpy())\n",
    "print(\"Rank of tensor\", tf.rank(t2))"
   ]
  },
  {
   "cell_type": "code",
   "execution_count": 6,
   "id": "3bd6ee06",
   "metadata": {},
   "outputs": [
    {
     "name": "stdout",
     "output_type": "stream",
     "text": [
      "Creaing a 3D Tensor\n",
      "The tensor\n",
      " tf.Tensor(\n",
      "[[[1 3 4]\n",
      "  [2 2 2]]\n",
      "\n",
      " [[1 1 1]\n",
      "  [0 0 0]]\n",
      "\n",
      " [[3 3 3]\n",
      "  [4 4 4]]], shape=(3, 2, 3), dtype=int32)\n",
      "To numpy\n",
      " [[[1 3 4]\n",
      "  [2 2 2]]\n",
      "\n",
      " [[1 1 1]\n",
      "  [0 0 0]]\n",
      "\n",
      " [[3 3 3]\n",
      "  [4 4 4]]]\n",
      "Rank of tensor tf.Tensor(3, shape=(), dtype=int32)\n"
     ]
    }
   ],
   "source": [
    "print(\"Creaing a 3D Tensor\")\n",
    "\n",
    "t3 = tf.constant([[[1,3,4], [2,2,2]], [[1,1,1], [0,0,0]], [[3,3,3], [4,4,4]]])\n",
    "\n",
    "print(\"The tensor\\n\", t3)\n",
    "print(\"To numpy\\n\", t3.numpy())\n",
    "print(\"Rank of tensor\", tf.rank(t3))"
   ]
  },
  {
   "cell_type": "code",
   "execution_count": 7,
   "id": "1613cb57",
   "metadata": {},
   "outputs": [
    {
     "name": "stdout",
     "output_type": "stream",
     "text": [
      "Creating a variable tensor and giving a name 'var1'\n",
      "The tensor <tf.Variable 'var1:0' shape=() dtype=float32, numpy=2.0>\n",
      "To numpy 2.0\n"
     ]
    }
   ],
   "source": [
    "print(\"Creating a variable tensor and giving a name 'var1'\")\n",
    "tv1 = tf.Variable(2, dtype=tf.float32, name='var1')\n",
    "\n",
    "print(\"The tensor\", tv1)\n",
    "print(\"To numpy\", tv1.numpy())"
   ]
  },
  {
   "cell_type": "code",
   "execution_count": 8,
   "id": "84cde7ea",
   "metadata": {},
   "outputs": [
    {
     "name": "stdout",
     "output_type": "stream",
     "text": [
      "Casting a float tensor to integer\n",
      "The tensor tf.Tensor(2, shape=(), dtype=int32)\n",
      "To numpy 2\n"
     ]
    }
   ],
   "source": [
    "print(\"Casting a float tensor to integer\")\n",
    "tv1 = tf.cast(tv1, tf.int32)\n",
    "\n",
    "print(\"The tensor\", tv1)\n",
    "print(\"To numpy\", tv1.numpy())"
   ]
  },
  {
   "cell_type": "code",
   "execution_count": 9,
   "id": "ba29e4f8",
   "metadata": {},
   "outputs": [
    {
     "name": "stdout",
     "output_type": "stream",
     "text": [
      "Accessing elements in a tensor.\n",
      "The tensor <tf.Variable 'Variable:0' shape=(5,) dtype=int32, numpy=array([ 2,  4,  6,  8, 10])>\n",
      "First element 2\n",
      "First 3 elements [2 4 6]\n"
     ]
    }
   ],
   "source": [
    "print(\"Accessing elements in a tensor.\")\n",
    "tv2 = tf.Variable([2,4,6,8,10])\n",
    "\n",
    "print(f\"The tensor {tv2}\")\n",
    "print(f\"First element {tv2[0]}\")\n",
    "print(f\"First 3 elements {tv2[:3]}\")"
   ]
  },
  {
   "cell_type": "code",
   "execution_count": 10,
   "id": "a33ec5bf",
   "metadata": {},
   "outputs": [
    {
     "name": "stdout",
     "output_type": "stream",
     "text": [
      "Creating a 4x3 tensor with random values that form a normal distribution.\n",
      "tf.Tensor(\n",
      "[[-0.8326308   0.902288   -0.8630641 ]\n",
      " [-0.84575623  0.9185586  -1.2197354 ]\n",
      " [-0.19613984 -0.70134246 -0.10182567]\n",
      " [ 1.1017545   1.9546351   0.45413843]], shape=(4, 3), dtype=float32)\n",
      "This is a tf.random.normal value and it doesn't support changes. It is immutable. To alter values, it ought to be converted into a variable.\n"
     ]
    }
   ],
   "source": [
    "print(\"Creating a 4x3 tensor with random values that form a normal distribution.\")\n",
    "tv3 = tf.random.normal([4, 3])\n",
    "print(tv3)\n",
    "\n",
    "print(\"This is a tf.random.normal value and it doesn't support changes. It is immutable. To alter values, it ought to be converted into a variable.\")"
   ]
  },
  {
   "cell_type": "code",
   "execution_count": 11,
   "id": "f7aba946",
   "metadata": {},
   "outputs": [
    {
     "name": "stdout",
     "output_type": "stream",
     "text": [
      "TV4\n",
      " <tf.Variable 'Variable:0' shape=(4, 3) dtype=float32, numpy=\n",
      "array([[-0.8326308 ,  0.902288  , -0.8630641 ],\n",
      "       [-0.84575623,  0.9185586 , -1.2197354 ],\n",
      "       [-0.19613984, -0.70134246, -0.10182567],\n",
      "       [ 1.1017545 ,  1.9546351 ,  0.45413843]], dtype=float32)>\n"
     ]
    }
   ],
   "source": [
    "tv4 = tf.Variable(tv3)\n",
    "\n",
    "print(\"TV4\\n\", tv4)"
   ]
  },
  {
   "cell_type": "code",
   "execution_count": 12,
   "id": "dc128a0b",
   "metadata": {},
   "outputs": [
    {
     "name": "stdout",
     "output_type": "stream",
     "text": [
      "Now, that tv4 is a variable, it supports item assignment. Let's alter the first element in the first row.\n"
     ]
    },
    {
     "data": {
      "text/plain": [
       "<tf.Variable 'UnreadVariable' shape=(4, 3) dtype=float32, numpy=\n",
       "array([[ 9.9999000e+04,  9.0228802e-01, -8.6306411e-01],\n",
       "       [-8.4575623e-01,  9.1855860e-01, -1.2197354e+00],\n",
       "       [-1.9613984e-01, -7.0134246e-01, -1.0182567e-01],\n",
       "       [ 1.1017545e+00,  1.9546351e+00,  4.5413843e-01]], dtype=float32)>"
      ]
     },
     "execution_count": 12,
     "metadata": {},
     "output_type": "execute_result"
    }
   ],
   "source": [
    "print(\"Now, that tv4 is a variable, it supports item assignment. Let's alter the first element in the first row.\")\n",
    "tv4[0, 0].assign(99999)"
   ]
  },
  {
   "cell_type": "code",
   "execution_count": 13,
   "id": "49b249c0",
   "metadata": {},
   "outputs": [
    {
     "name": "stdout",
     "output_type": "stream",
     "text": [
      "Altering the entire first row.\n"
     ]
    },
    {
     "data": {
      "text/plain": [
       "<tf.Variable 'UnreadVariable' shape=(4, 3) dtype=float32, numpy=\n",
       "array([[ 9.        ,  9.        ,  9.        ],\n",
       "       [-0.84575623,  0.9185586 , -1.2197354 ],\n",
       "       [-0.19613984, -0.70134246, -0.10182567],\n",
       "       [ 1.1017545 ,  1.9546351 ,  0.45413843]], dtype=float32)>"
      ]
     },
     "execution_count": 13,
     "metadata": {},
     "output_type": "execute_result"
    }
   ],
   "source": [
    "print(\"Altering the entire first row.\")\n",
    "tv4[0, :].assign([9,9,9])"
   ]
  },
  {
   "cell_type": "code",
   "execution_count": 14,
   "id": "c0533575",
   "metadata": {},
   "outputs": [
    {
     "name": "stdout",
     "output_type": "stream",
     "text": [
      "Creating a matrix of just ones.\n"
     ]
    },
    {
     "data": {
      "text/plain": [
       "<tf.Tensor: shape=(3, 3), dtype=float32, numpy=\n",
       "array([[1., 1., 1.],\n",
       "       [1., 1., 1.],\n",
       "       [1., 1., 1.]], dtype=float32)>"
      ]
     },
     "execution_count": 14,
     "metadata": {},
     "output_type": "execute_result"
    }
   ],
   "source": [
    "print(\"Creating a matrix of just ones.\")\n",
    "tf.ones([3,3])"
   ]
  },
  {
   "cell_type": "code",
   "execution_count": 15,
   "id": "0cf1e176",
   "metadata": {},
   "outputs": [
    {
     "name": "stdout",
     "output_type": "stream",
     "text": [
      "Creating a matrix of just zeros.\n"
     ]
    },
    {
     "data": {
      "text/plain": [
       "<tf.Tensor: shape=(3, 3), dtype=float32, numpy=\n",
       "array([[0., 0., 0.],\n",
       "       [0., 0., 0.],\n",
       "       [0., 0., 0.]], dtype=float32)>"
      ]
     },
     "execution_count": 15,
     "metadata": {},
     "output_type": "execute_result"
    }
   ],
   "source": [
    "print(\"Creating a matrix of just zeros.\")\n",
    "tf.zeros([3,3])"
   ]
  },
  {
   "cell_type": "code",
   "execution_count": 16,
   "id": "8e322047",
   "metadata": {},
   "outputs": [
    {
     "name": "stdout",
     "output_type": "stream",
     "text": [
      "Reshaping tensors.\n",
      "The tensor\n",
      " <tf.Variable 'Variable:0' shape=(4, 3) dtype=float32, numpy=\n",
      "array([[ 9.        ,  9.        ,  9.        ],\n",
      "       [-0.84575623,  0.9185586 , -1.2197354 ],\n",
      "       [-0.19613984, -0.70134246, -0.10182567],\n",
      "       [ 1.1017545 ,  1.9546351 ,  0.45413843]], dtype=float32)>\n",
      "Shape of tensor (4, 3)\n",
      "The tensor after reshaping\n",
      " tf.Tensor(\n",
      "[[ 9.          9.        ]\n",
      " [ 9.         -0.84575623]\n",
      " [ 0.9185586  -1.2197354 ]\n",
      " [-0.19613984 -0.70134246]\n",
      " [-0.10182567  1.1017545 ]\n",
      " [ 1.9546351   0.45413843]], shape=(6, 2), dtype=float32)\n",
      "Shape after reshaping (6, 2)\n"
     ]
    }
   ],
   "source": [
    "print(\"Reshaping tensors.\")\n",
    "tv5 = tf.Variable(tv4)\n",
    "print(\"The tensor\\n\", tv5)\n",
    "print(\"Shape of tensor\", tv5.shape)\n",
    "tv5 = tf.reshape(tv5, [6, 2])\n",
    "print(\"The tensor after reshaping\\n\", tv5)\n",
    "print(\"Shape after reshaping\", tv5.shape)"
   ]
  },
  {
   "cell_type": "code",
   "execution_count": 17,
   "id": "1eb528c3",
   "metadata": {},
   "outputs": [
    {
     "name": "stdout",
     "output_type": "stream",
     "text": [
      "Condition based selection of elements in a tensor.\n",
      "The tensor tf.Tensor(\n",
      "[[-1.697034   -0.4813767  -0.6622369 ]\n",
      " [ 0.08701117 -1.0001622   0.94347405]\n",
      " [ 0.61669475  0.21356511 -0.1427695 ]\n",
      " [-0.5535083   1.2846227   1.5292794 ]], shape=(4, 3), dtype=float32)\n",
      "\n",
      "Condition: Element value less than 0:\n",
      " tf.Tensor(\n",
      "[[ True  True  True]\n",
      " [False  True False]\n",
      " [False False  True]\n",
      " [ True False False]], shape=(4, 3), dtype=bool)\n",
      "\n",
      "Condition: Element value less than 0. Fetching specific elements itself:\n",
      " tf.Tensor([-1.697034  -0.4813767 -0.6622369 -1.0001622 -0.1427695 -0.5535083], shape=(6,), dtype=float32)\n",
      "\n",
      "Condition: Element value less than 0. Fetching elements' position:\n",
      " tf.Tensor(\n",
      "[[0 0]\n",
      " [0 1]\n",
      " [0 2]\n",
      " [1 1]\n",
      " [2 2]\n",
      " [3 0]], shape=(6, 2), dtype=int64)\n"
     ]
    }
   ],
   "source": [
    "print(\"Condition based selection of elements in a tensor.\")\n",
    "tv6 = tf.random.stateless_normal(shape=[4, 3], seed=(0, 0))\n",
    "print(\"The tensor\", tv6)\n",
    "\n",
    "print(\"\\nCondition: Element value less than 0:\\n\", tv6<0)\n",
    "print(\"\\nCondition: Element value less than 0. Fetching specific elements itself:\\n\", tv6[tv6<0])\n",
    "print(\"\\nCondition: Element value less than 0. Fetching elements' position:\\n\", tf.where(tv6<0))"
   ]
  },
  {
   "cell_type": "markdown",
   "id": "8401603f",
   "metadata": {},
   "source": [
    "### Arithematic operations on tensors"
   ]
  },
  {
   "cell_type": "code",
   "execution_count": 18,
   "id": "0bd7bc6d",
   "metadata": {},
   "outputs": [
    {
     "name": "stdout",
     "output_type": "stream",
     "text": [
      "A: <tf.Variable 'Variable:0' shape=(3,) dtype=int32, numpy=array([1, 2, 3])>\n",
      "B: <tf.Variable 'Variable:0' shape=(3,) dtype=int32, numpy=array([4, 5, 6])>\n",
      "\n",
      "Addition: tf.Tensor([5 7 9], shape=(3,), dtype=int32)\n",
      "Element-wise multiplication: tf.Tensor([ 4 10 18], shape=(3,), dtype=int32)\n",
      "Division: tf.Tensor([0.25 0.4  0.5 ], shape=(3,), dtype=float64)\n",
      "Modulus: tf.Tensor([1 2 3], shape=(3,), dtype=int32)\n"
     ]
    }
   ],
   "source": [
    "a = tf.Variable([1,2,3])\n",
    "print(\"A:\", a)\n",
    "b = tf.Variable([4,5,6])\n",
    "print(\"B:\", b)\n",
    "print(\"\")\n",
    "print(\"Addition:\", a+b)\n",
    "print(\"Element-wise multiplication:\", a*b)\n",
    "print(\"Division:\", a/b)\n",
    "print(\"Modulus:\", a%b)"
   ]
  },
  {
   "cell_type": "code",
   "execution_count": 19,
   "id": "6a7d1349",
   "metadata": {},
   "outputs": [
    {
     "name": "stdout",
     "output_type": "stream",
     "text": [
      "Dot product along axis 0:\n",
      " tf.Tensor(\n",
      "[[ 4  5  6]\n",
      " [ 8 10 12]\n",
      " [12 15 18]], shape=(3, 3), dtype=int32)\n",
      "Dot product along axis 1: 32\n"
     ]
    }
   ],
   "source": [
    "print(\"Dot product along axis 0:\\n\", tf.tensordot(a=a, b=b, axes=0))\n",
    "print(\"Dot product along axis 1:\", tf.tensordot(a=a, b=b, axes=1).numpy())"
   ]
  },
  {
   "cell_type": "code",
   "execution_count": 20,
   "id": "3a3728c8",
   "metadata": {},
   "outputs": [
    {
     "name": "stdout",
     "output_type": "stream",
     "text": [
      "Adding to tensors: tf.Tensor([5 7 9], shape=(3,), dtype=int32)\n",
      "Power function: tf.Tensor([ 1  8 27], shape=(3,), dtype=int32)\n",
      "\n",
      "Square root function requires a floating type data. We'll cast the variable 'a'.\n",
      "Square Root: tf.Tensor([1.        1.4142135 1.7320508], shape=(3,), dtype=float32)\n",
      "\n",
      "Exponential function requires a floating type data. We'll cast the variable 'a'.\n",
      "Exponential: tf.Tensor([ 2.7182817  7.389056  20.085537 ], shape=(3,), dtype=float32)\n",
      "\n",
      "Logarithm function requires a floating type data. We'll cast the variable 'a'.\n",
      "Logarithm: tf.Tensor([0.        0.6931472 1.0986123], shape=(3,), dtype=float32)\n"
     ]
    }
   ],
   "source": [
    "print(\"Adding to tensors:\", tf.add(a, b))\n",
    "print(\"Power function:\", tf.pow(a, 3))\n",
    "print(\"\\nSquare root function requires a floating type data. We'll cast the variable 'a'.\")\n",
    "print(\"Square Root:\", tf.sqrt(tf.cast(a, tf.float32)))\n",
    "print(\"\\nExponential function requires a floating type data. We'll cast the variable 'a'.\")\n",
    "print(\"Exponential:\", tf.exp(tf.cast(a, tf.float32), 0.5))\n",
    "print(\"\\nLogarithm function requires a floating type data. We'll cast the variable 'a'.\")\n",
    "print(\"Logarithm:\", tf.math.log(tf.cast(a, tf.float32)))"
   ]
  },
  {
   "cell_type": "code",
   "execution_count": 21,
   "id": "ae06fc63",
   "metadata": {},
   "outputs": [
    {
     "name": "stdout",
     "output_type": "stream",
     "text": [
      "Matrix 1:\n",
      "<tf.Variable 'Variable:0' shape=(4, 4) dtype=int32, numpy=\n",
      "array([[1, 1, 4, 3],\n",
      "       [1, 2, 2, 4],\n",
      "       [4, 3, 3, 1],\n",
      "       [2, 3, 1, 3]])>\n",
      "Matrix 2:\n",
      " <tf.Variable 'Variable:0' shape=(4, 4) dtype=int32, numpy=\n",
      "array([[8, 7, 6, 9],\n",
      "       [6, 9, 7, 9],\n",
      "       [9, 6, 9, 9],\n",
      "       [9, 6, 7, 7]])>\n",
      "\n",
      "Element-wise Multiplication:\n",
      " tf.Tensor(\n",
      "[[ 8  7 24 27]\n",
      " [ 6 18 14 36]\n",
      " [36 18 27  9]\n",
      " [18 18  7 21]], shape=(4, 4), dtype=int32)\n",
      "\n",
      "\n",
      "Matrix Multiplication:\n",
      " tf.Tensor(\n",
      "[[77 58 70 75]\n",
      " [74 61 66 73]\n",
      " [86 79 79 97]\n",
      " [70 65 63 75]], shape=(4, 4), dtype=int32)\n"
     ]
    }
   ],
   "source": [
    "mat1 = tf.Variable(np.random.randint(1, 5, [4, 4]))\n",
    "mat2 = tf.Variable(np.random.randint(6, 10, [4, 4]))\n",
    "\n",
    "print(\"Matrix 1:\\n\", mat1)\n",
    "print(\"Matrix 2:\\n\", mat2)\n",
    "\n",
    "print(\"\\nElement-wise Multiplication:\\n\", mat1*mat2)\n",
    "print(\"\\n\\nMatrix Multiplication:\\n\", tf.matmul(mat1, mat2))"
   ]
  },
  {
   "cell_type": "markdown",
   "id": "6050e80e-f82c-4232-9ad5-20a686a601b6",
   "metadata": {},
   "source": [
    "### Determinant of a matrix."
   ]
  },
  {
   "cell_type": "code",
   "execution_count": 22,
   "id": "4885ebae",
   "metadata": {},
   "outputs": [
    {
     "name": "stdout",
     "output_type": "stream",
     "text": [
      "Determinant of the matrix 1: tf.Tensor(10.000003, shape=(), dtype=float32)\n"
     ]
    }
   ],
   "source": [
    "mat1 = tf.cast(mat1, tf.float32)\n",
    "print(\"Determinant of the matrix 1:\", tf.linalg.det(mat1))"
   ]
  },
  {
   "cell_type": "markdown",
   "id": "efe3ce65-d4d4-4188-9b94-f98e0cb08f02",
   "metadata": {},
   "source": [
    "### Eigen values of a matrix."
   ]
  },
  {
   "cell_type": "code",
   "execution_count": 23,
   "id": "4a34f66a-d216-4118-a6a9-6930adfe850b",
   "metadata": {},
   "outputs": [
    {
     "name": "stdout",
     "output_type": "stream",
     "text": [
      "Eigen Values of  matrix 1:\n",
      " tf.Tensor([ 9.50372   +0.j -3.0684762 +0.j  2.692134  +0.j -0.12737617+0.j], shape=(4,), dtype=complex64)\n"
     ]
    }
   ],
   "source": [
    "eigen_values = tf.linalg.eigvals(mat1)\n",
    "print(\"Eigen Values of  matrix 1:\\n\", eigen_values)"
   ]
  },
  {
   "cell_type": "markdown",
   "id": "9b081735-a731-4fe1-acf8-7cbf9adc3df1",
   "metadata": {},
   "source": [
    "### Transpose of a matrix."
   ]
  },
  {
   "cell_type": "code",
   "execution_count": 24,
   "id": "6d9fd01f-400b-4f13-9a97-f305743cbe60",
   "metadata": {},
   "outputs": [
    {
     "name": "stdout",
     "output_type": "stream",
     "text": [
      "Matrix 1:\n",
      " tf.Tensor(\n",
      "[[1. 1. 4. 3.]\n",
      " [1. 2. 2. 4.]\n",
      " [4. 3. 3. 1.]\n",
      " [2. 3. 1. 3.]], shape=(4, 4), dtype=float32)\n",
      "\n",
      "Transpose of matrix 1:\n",
      " tf.Tensor(\n",
      "[[1. 1. 4. 2.]\n",
      " [1. 2. 3. 3.]\n",
      " [4. 2. 3. 1.]\n",
      " [3. 4. 1. 3.]], shape=(4, 4), dtype=float32)\n"
     ]
    }
   ],
   "source": [
    "transpose_mat1 = tf.transpose(mat1)\n",
    "print(\"Matrix 1:\\n\", mat1)\n",
    "print(\"\\nTranspose of matrix 1:\\n\", transpose_mat1)"
   ]
  },
  {
   "cell_type": "markdown",
   "id": "380b6a76-07c5-4b3e-8730-0f64f4c8054d",
   "metadata": {},
   "source": [
    "### Concatenating 2 tensors."
   ]
  },
  {
   "cell_type": "code",
   "execution_count": 25,
   "id": "aa82c9f9-be2b-4c23-8353-9564e76721f7",
   "metadata": {},
   "outputs": [
    {
     "name": "stdout",
     "output_type": "stream",
     "text": [
      "Concatenated tensor:\n",
      " tf.Tensor(\n",
      "[[1. 1. 4. 3. 8. 7. 6. 9.]\n",
      " [1. 2. 2. 4. 6. 9. 7. 9.]\n",
      " [4. 3. 3. 1. 9. 6. 9. 9.]\n",
      " [2. 3. 1. 3. 9. 6. 7. 7.]], shape=(4, 8), dtype=float32)\n"
     ]
    }
   ],
   "source": [
    "mat2 = tf.cast(mat2, tf.float32)\n",
    "concat_tensor = tf.concat([mat1, mat2], axis=1)\n",
    "print(\"Concatenated tensor:\\n\", concat_tensor)"
   ]
  },
  {
   "cell_type": "code",
   "execution_count": null,
   "id": "351067c2-1399-449e-b43d-8e317de918fc",
   "metadata": {},
   "outputs": [],
   "source": []
  }
 ],
 "metadata": {
  "kernelspec": {
   "display_name": "Python 3 (ipykernel)",
   "language": "python",
   "name": "python3"
  },
  "language_info": {
   "codemirror_mode": {
    "name": "ipython",
    "version": 3
   },
   "file_extension": ".py",
   "mimetype": "text/x-python",
   "name": "python",
   "nbconvert_exporter": "python",
   "pygments_lexer": "ipython3",
   "version": "3.11.7"
  }
 },
 "nbformat": 4,
 "nbformat_minor": 5
}
